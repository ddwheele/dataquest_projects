{
 "cells": [
  {
   "cell_type": "markdown",
   "metadata": {},
   "source": [
    "# Analyzing Popular Apps\n",
    "\n",
    "This project will analyze popular apps on the App Store and Google Play. The analysis will be valuable for determining which app types are the most popular, and therefore most likely to generate revenue through in-app ads."
   ]
  },
  {
   "cell_type": "markdown",
   "metadata": {},
   "source": [
    "These datasets come from Kaggle. Apple data is from [here](https://www.kaggle.com/ramamet4/app-store-apple-data-set-10k-apps/home) and Google Play data is from [here](https://www.kaggle.com/lava18/google-play-store-apps/home)"
   ]
  },
  {
   "cell_type": "code",
   "execution_count": 1,
   "metadata": {},
   "outputs": [],
   "source": [
    "import csv\n",
    "\n",
    "apple_file = open('AppleStore.csv')\n",
    "google_file = open('googleplaystore.csv')\n",
    "read_apple = csv.reader(apple_file)\n",
    "read_google = csv.reader(google_file)\n",
    "apple = list(read_apple)\n",
    "google = list(read_google)"
   ]
  },
  {
   "cell_type": "code",
   "execution_count": 2,
   "metadata": {},
   "outputs": [],
   "source": [
    "def explore_data(dataset, start, end, rows_and_columns=False):\n",
    "    dataset_slice = dataset[start:end]    \n",
    "    for row in dataset_slice:\n",
    "        print(row)\n",
    "        print('\\n') # adds a new (empty) line after each row\n",
    "\n",
    "    if rows_and_columns:\n",
    "        print('Number of rows:', len(dataset))\n",
    "        print('Number of columns:', len(dataset[0]))"
   ]
  },
  {
   "cell_type": "code",
   "execution_count": 3,
   "metadata": {},
   "outputs": [],
   "source": [
    "# Separate header\n",
    "google_header = google[0]\n",
    "apple_header = apple[0]\n",
    "google = google[1:]\n",
    "apple = apple[1:]"
   ]
  },
  {
   "cell_type": "code",
   "execution_count": 4,
   "metadata": {},
   "outputs": [
    {
     "name": "stdout",
     "output_type": "stream",
     "text": [
      "['', 'id', 'track_name', 'size_bytes', 'currency', 'price', 'rating_count_tot', 'rating_count_ver', 'user_rating', 'user_rating_ver', 'ver', 'cont_rating', 'prime_genre', 'sup_devices.num', 'ipadSc_urls.num', 'lang.num', 'vpp_lic']\n",
      "['App', 'Category', 'Rating', 'Reviews', 'Size', 'Installs', 'Type', 'Price', 'Content Rating', 'Genres', 'Last Updated', 'Current Ver', 'Android Ver']\n"
     ]
    }
   ],
   "source": [
    "print(apple_header)\n",
    "print(google_header)"
   ]
  },
  {
   "cell_type": "code",
   "execution_count": 5,
   "metadata": {},
   "outputs": [
    {
     "name": "stdout",
     "output_type": "stream",
     "text": [
      "['1', '281656475', 'PAC-MAN Premium', '100788224', 'USD', '3.99', '21292', '26', '4', '4.5', '6.3.5', '4+', 'Games', '38', '5', '10', '1']\n",
      "\n",
      "\n",
      "['2', '281796108', 'Evernote - stay organized', '158578688', 'USD', '0', '161065', '26', '4', '3.5', '8.2.2', '4+', 'Productivity', '37', '5', '23', '1']\n",
      "\n",
      "\n",
      "['3', '281940292', 'WeatherBug - Local Weather, Radar, Maps, Alerts', '100524032', 'USD', '0', '188583', '2822', '3.5', '4.5', '5.0.0', '4+', 'Weather', '37', '5', '3', '1']\n",
      "\n",
      "\n",
      "Number of rows: 7197\n",
      "Number of columns: 17\n",
      "['Photo Editor & Candy Camera & Grid & ScrapBook', 'ART_AND_DESIGN', '4.1', '159', '19M', '10,000+', 'Free', '0', 'Everyone', 'Art & Design', 'January 7, 2018', '1.0.0', '4.0.3 and up']\n",
      "\n",
      "\n",
      "['Coloring book moana', 'ART_AND_DESIGN', '3.9', '967', '14M', '500,000+', 'Free', '0', 'Everyone', 'Art & Design;Pretend Play', 'January 15, 2018', '2.0.0', '4.0.3 and up']\n",
      "\n",
      "\n",
      "['U Launcher Lite – FREE Live Cool Themes, Hide Apps', 'ART_AND_DESIGN', '4.7', '87510', '8.7M', '5,000,000+', 'Free', '0', 'Everyone', 'Art & Design', 'August 1, 2018', '1.2.4', '4.0.3 and up']\n",
      "\n",
      "\n",
      "Number of rows: 10841\n",
      "Number of columns: 13\n"
     ]
    }
   ],
   "source": [
    "explore_data(apple, 0, 3, True)\n",
    "explore_data(google, 0, 3, True)"
   ]
  },
  {
   "cell_type": "markdown",
   "metadata": {},
   "source": [
    "## Apple Headings\n",
    "\n",
    "(starts with a blank row, which is why the indices start at 1 instead of 0)\n",
    "\n",
    "|#| Row ID               | Explanation                                  | \n",
    "| - | :----------------- | :----------------------------------------- |\n",
    "|1| id               | App ID                                   | \n",
    "|2| track_name       | App Name                                 |\n",
    "| 3  | size_bytes       | Bytes                                 |\n",
    "| 4  | currency         | Currency                              |\n",
    "| 5  |price            | Price                                  |\n",
    "| 6  | rating_count_tot | User Rating counts (for all versions)    |\n",
    "| 7   | rating_count_ver | User Rating counts (for current version) |\n",
    "| 8 | user_rating      | Average user rating (all versions)       | \n",
    "| 9  | user_rating_ver  | Average user rating (current version)    |\n",
    "| 10  | ver              | Latest versions                          |\n",
    "| 11  | cont_rating      | Content Rating                           |\n",
    "| 12 | prime_genre      | Primary Genre                            |\n",
    "| 13 | sup_devices.num  | number of supporting devices             |\n",
    "| 14 | ipadSc_urls.num  | Number of screenshots showed for display |\n",
    "| 15 | lang.num         | Number of supported languages            |\n",
    "| 16 |vpp_lic          | Vpp Device Based Licensing Enabled       |"
   ]
  },
  {
   "cell_type": "markdown",
   "metadata": {},
   "source": [
    "## Google Headings\n",
    "\n",
    "|Index |\tColumn |\n",
    "| - | - |\n",
    "|0\t|App |\n",
    "|1\t|Category |\n",
    "|2\t|Rating |\n",
    "|3|\tReviews |\n",
    "|4\t|Size |\n",
    "|5\t|Installs |\n",
    "|6\t|Type |\n",
    "|7\t|Price |\n",
    "|8\t|Content Rating |\n",
    "|9\t|Genres |\n",
    "|10\t|Last Updated |\n",
    "|11\t|Current Ver |\n",
    "|12\t|Android Ver |"
   ]
  },
  {
   "cell_type": "code",
   "execution_count": 6,
   "metadata": {},
   "outputs": [],
   "source": [
    "# Forums say this row is incorrect, so deleting it\n",
    "del google[10472]"
   ]
  },
  {
   "cell_type": "markdown",
   "metadata": {},
   "source": [
    "Check for duplicate entries:"
   ]
  },
  {
   "cell_type": "code",
   "execution_count": 7,
   "metadata": {},
   "outputs": [],
   "source": [
    "# assumes no header row\n",
    "def find_dupes(dataset, name_col=0):\n",
    "    duplicates = []\n",
    "    all_apps = []\n",
    "    \n",
    "    for app in dataset:\n",
    "        name = app[name_col]\n",
    "        if name in all_apps:\n",
    "            duplicates.append(name)\n",
    "        all_apps.append(name)\n",
    "    print(len(duplicates))\n",
    "    print(duplicates[:15])\n",
    "    return duplicates"
   ]
  },
  {
   "cell_type": "code",
   "execution_count": 8,
   "metadata": {},
   "outputs": [
    {
     "name": "stdout",
     "output_type": "stream",
     "text": [
      "2\n",
      "['VR Roller Coaster', 'Mannequin Challenge']\n",
      "1181\n",
      "['Quick PDF Scanner + OCR FREE', 'Box', 'Google My Business', 'ZOOM Cloud Meetings', 'join.me - Simple Meetings', 'Box', 'Zenefits', 'Google Ads', 'Google My Business', 'Slack', 'FreshBooks Classic', 'Insightly CRM', 'QuickBooks Accounting: Invoicing & Expenses', 'HipChat - Chat Built for Teams', 'Xero Accounting Software']\n"
     ]
    }
   ],
   "source": [
    "apple_dupes = find_dupes(apple, 2)\n",
    "google_dupes = find_dupes(google)"
   ]
  },
  {
   "cell_type": "markdown",
   "metadata": {},
   "source": [
    "Google dataset has 1181 duplicates. Apple dataset has 2 duplicates. Let's remove the duplicate entries that have fewer reviews, because we want the most data possible."
   ]
  },
  {
   "cell_type": "code",
   "execution_count": 9,
   "metadata": {},
   "outputs": [
    {
     "name": "stdout",
     "output_type": "stream",
     "text": [
      "7195\n",
      "9659\n"
     ]
    }
   ],
   "source": [
    "# assumes no header row\n",
    "# identify the max number of reviews for each app\n",
    "# that is the row that we will keep\n",
    "def find_max_reviews(dataset, name_col=0, max_col=3):\n",
    "    reviews_max = {}\n",
    "    for app in dataset:\n",
    "        name = app[name_col]\n",
    "        n_reviews = float(app[max_col])\n",
    "        if name in reviews_max and reviews_max[name] < n_reviews:\n",
    "            reviews_max[name] = n_reviews\n",
    "        elif name not in reviews_max:\n",
    "            reviews_max[name] = n_reviews\n",
    "    return reviews_max\n",
    "\n",
    "google_reviews_max = find_max_reviews(google)\n",
    "apple_reviews_max = find_max_reviews(apple,2,6)\n",
    "print(len(apple_reviews_max))\n",
    "print(len(google_reviews_max))"
   ]
  },
  {
   "cell_type": "code",
   "execution_count": 10,
   "metadata": {},
   "outputs": [
    {
     "name": "stdout",
     "output_type": "stream",
     "text": [
      "7195\n",
      "9659\n"
     ]
    }
   ],
   "source": [
    "# remove the rows that do not have the max number of reviews\n",
    "def remove_duplicates(dataset, reviews_max, name_col=0, max_col=3):\n",
    "    clean = []\n",
    "    added = []\n",
    "    for app in dataset:\n",
    "        name = app[name_col]\n",
    "        n_reviews = float(app[max_col])\n",
    "        if n_reviews == reviews_max[name] and name not in added:\n",
    "            clean.append(app)\n",
    "            added.append(name)\n",
    "    return clean\n",
    "            \n",
    "google_clean = remove_duplicates(google, google_reviews_max)\n",
    "apple_clean = remove_duplicates(apple, apple_reviews_max, 2, 6)\n",
    "\n",
    "print(len(apple_clean))\n",
    "print(len(google_clean))"
   ]
  },
  {
   "cell_type": "markdown",
   "metadata": {},
   "source": [
    "Now that duplicates are removed, let's remove non-English apps."
   ]
  },
  {
   "cell_type": "code",
   "execution_count": 11,
   "metadata": {},
   "outputs": [
    {
     "data": {
      "text/plain": [
       "False"
      ]
     },
     "execution_count": 11,
     "metadata": {},
     "output_type": "execute_result"
    }
   ],
   "source": [
    "def has_few_non_english_characters(string):\n",
    "    strikes = 0\n",
    "    for c in string:\n",
    "        if ord(c) > 127:\n",
    "            strikes += 1\n",
    "            if strikes > 2:\n",
    "                return False\n",
    "    return True    \n",
    "    \n",
    "has_few_non_english_characters('爱奇艺PPS -《欢乐颂2》电视剧热播')"
   ]
  },
  {
   "cell_type": "code",
   "execution_count": 12,
   "metadata": {},
   "outputs": [],
   "source": [
    "def remove_non_english_apps(dataset, name_col=0):\n",
    "    english_apps = []\n",
    "    for app in dataset:\n",
    "        if has_few_non_english_characters(app[name_col]):\n",
    "            english_apps.append(app)\n",
    "    return english_apps\n",
    "\n",
    "google_clean = remove_non_english_apps(google_clean)\n",
    "apple_clean = remove_non_english_apps(apple_clean,2)"
   ]
  },
  {
   "cell_type": "code",
   "execution_count": 13,
   "metadata": {},
   "outputs": [
    {
     "name": "stdout",
     "output_type": "stream",
     "text": [
      "6153\n",
      "9597\n"
     ]
    }
   ],
   "source": [
    "print(len(apple_clean))\n",
    "print(len(google_clean))"
   ]
  },
  {
   "cell_type": "code",
   "execution_count": 14,
   "metadata": {},
   "outputs": [],
   "source": [
    "def remove_paid_apps(dataset, price_col):\n",
    "    free = []\n",
    "    for app in dataset:\n",
    "        price = app[price_col]\n",
    "        if '$' in price:\n",
    "            price = price[1:]\n",
    "        if not float(price) > 0:\n",
    "            free.append(app)\n",
    "    return free"
   ]
  },
  {
   "cell_type": "code",
   "execution_count": 15,
   "metadata": {},
   "outputs": [
    {
     "name": "stdout",
     "output_type": "stream",
     "text": [
      "3201\n",
      "8848\n"
     ]
    }
   ],
   "source": [
    "google_clean = remove_paid_apps(google_clean,7)\n",
    "apple_clean = remove_paid_apps(apple_clean,5)\n",
    "print(len(apple_clean))\n",
    "print(len(google_clean))"
   ]
  },
  {
   "cell_type": "markdown",
   "metadata": {},
   "source": [
    "And we conclude that there are many more paid apps on Apple than on Google."
   ]
  },
  {
   "cell_type": "markdown",
   "metadata": {},
   "source": [
    "Our \"validation strategy\" for developing apps is to try out an app on the Play Store, and if it makes money after 6 months, develop an iOS version. So, we're going to examine the Genres, Category, and prime_genre columns to determine the most popular kinds of apps."
   ]
  },
  {
   "cell_type": "code",
   "execution_count": 16,
   "metadata": {},
   "outputs": [],
   "source": [
    "def freq_table(dataset, index):\n",
    "    freq = {}\n",
    "    for app in dataset:\n",
    "        key = app[index]\n",
    "        if key in freq:\n",
    "            freq[key] += 1\n",
    "        else:\n",
    "            freq[key] = 1\n",
    "    # change to percentages\n",
    "    total = len(dataset)\n",
    "    for key, val in freq.items():\n",
    "        freq[key] = val / total\n",
    "    return freq\n",
    "\n",
    "def display_table(dataset, index):\n",
    "    table = freq_table(dataset, index)\n",
    "    table_display = []\n",
    "    for key in table:\n",
    "        key_val_as_tuple = (table[key], key)\n",
    "        table_display.append(key_val_as_tuple)\n",
    "\n",
    "    table_sorted = sorted(table_display, reverse = True)\n",
    "    for entry in table_sorted:\n",
    "        print(entry[1], ':', entry[0])"
   ]
  },
  {
   "cell_type": "code",
   "execution_count": 17,
   "metadata": {},
   "outputs": [
    {
     "name": "stdout",
     "output_type": "stream",
     "text": [
      "Games : 0.5823180256169946\n",
      "Entertainment : 0.07841299593876913\n",
      "Photo & Video : 0.0499843798812871\n",
      "Education : 0.03686348016244923\n",
      "Social Networking : 0.033114651671352704\n",
      "Shopping : 0.02592939706341768\n",
      "Utilities : 0.024679787566385506\n",
      "Sports : 0.02155576382380506\n",
      "Music : 0.020618556701030927\n",
      "Health & Fitness : 0.020306154326772883\n",
      "Productivity : 0.017494532958450486\n",
      "Lifestyle : 0.015620118712902219\n",
      "News : 0.013433302093095907\n",
      "Travel : 0.012496094970321775\n",
      "Finance : 0.010934083099031553\n",
      "Weather : 0.008747266479225243\n",
      "Food & Drink : 0.008122461730709154\n",
      "Reference : 0.005310840362386754\n",
      "Business : 0.005310840362386754\n",
      "Book : 0.0037488284910965324\n",
      "Navigation : 0.0018744142455482662\n",
      "Medical : 0.0018744142455482662\n",
      "Catalogs : 0.0012496094970321774\n"
     ]
    }
   ],
   "source": [
    "display_table(apple_clean, 12) # prime_genre"
   ]
  },
  {
   "cell_type": "markdown",
   "metadata": {},
   "source": [
    "The two most common genres are Games (58%) and Entertainment (7%). There are many free English apps for fun. To recommend a type of app that would have the most users, we would have to include the number of users in our analysis. Just because there are many game apps doesn't mean anybody downloads them."
   ]
  },
  {
   "cell_type": "code",
   "execution_count": 18,
   "metadata": {},
   "outputs": [
    {
     "name": "stdout",
     "output_type": "stream",
     "text": [
      "Tools : 0.08442585895117541\n",
      "Entertainment : 0.06080470162748644\n",
      "Education : 0.05357142857142857\n",
      "Business : 0.04599909584086799\n",
      "Productivity : 0.03899186256781193\n",
      "Lifestyle : 0.038765822784810125\n",
      "Finance : 0.037070524412296565\n",
      "Medical : 0.035375226039783\n",
      "Sports : 0.03458408679927667\n",
      "Personalization : 0.03322784810126582\n",
      "Communication : 0.032323688969258586\n",
      "Action : 0.03096745027124774\n",
      "Health & Fitness : 0.030854430379746837\n",
      "Photography : 0.029498191681735987\n",
      "News & Magazines : 0.02802893309222423\n",
      "Social : 0.02667269439421338\n",
      "Travel & Local : 0.02328209764918626\n",
      "Shopping : 0.02249095840867993\n",
      "Books & Reference : 0.021360759493670885\n",
      "Simulation : 0.020456600361663652\n",
      "Dating : 0.018648282097649186\n",
      "Arcade : 0.01842224231464738\n",
      "Video Players & Editors : 0.017744122965641953\n",
      "Casual : 0.01763110307414105\n",
      "Maps & Navigation : 0.013901446654611212\n",
      "Food & Drink : 0.012432188065099457\n",
      "Puzzle : 0.011301989150090416\n",
      "Racing : 0.009945750452079566\n",
      "Role Playing : 0.009380650994575045\n",
      "Libraries & Demo : 0.009380650994575045\n",
      "Auto & Vehicles : 0.009267631103074141\n",
      "Strategy : 0.009154611211573236\n",
      "House & Home : 0.008024412296564195\n",
      "Weather : 0.007911392405063292\n",
      "Events : 0.007120253164556962\n",
      "Adventure : 0.006668173598553345\n",
      "Comics : 0.00599005424954792\n",
      "Beauty : 0.00599005424954792\n",
      "Art & Design : 0.00599005424954792\n",
      "Parenting : 0.004972875226039783\n",
      "Card : 0.0045207956600361665\n",
      "Trivia : 0.004181735985533454\n",
      "Casino : 0.004181735985533454\n",
      "Educational;Education : 0.003955696202531646\n",
      "Board : 0.0038426763110307413\n",
      "Educational : 0.003729656419529837\n",
      "Education;Education : 0.0033905967450271247\n",
      "Word : 0.0025994575045207957\n",
      "Casual;Pretend Play : 0.0023734177215189874\n",
      "Music : 0.002034358047016275\n",
      "Racing;Action & Adventure : 0.0016952983725135623\n",
      "Puzzle;Brain Games : 0.0016952983725135623\n",
      "Entertainment;Music & Video : 0.0016952983725135623\n",
      "Casual;Brain Games : 0.00135623869801085\n",
      "Casual;Action & Adventure : 0.00135623869801085\n",
      "Arcade;Action & Adventure : 0.0012432188065099458\n",
      "Action;Action & Adventure : 0.0010171790235081375\n",
      "Educational;Pretend Play : 0.0009041591320072332\n",
      "Simulation;Action & Adventure : 0.0007911392405063291\n",
      "Parenting;Education : 0.0007911392405063291\n",
      "Entertainment;Brain Games : 0.0007911392405063291\n",
      "Board;Brain Games : 0.0007911392405063291\n",
      "Parenting;Music & Video : 0.000678119349005425\n",
      "Educational;Brain Games : 0.000678119349005425\n",
      "Casual;Creativity : 0.000678119349005425\n",
      "Art & Design;Creativity : 0.000678119349005425\n",
      "Education;Pretend Play : 0.0005650994575045208\n",
      "Role Playing;Pretend Play : 0.0004520795660036166\n",
      "Education;Creativity : 0.0004520795660036166\n",
      "Role Playing;Action & Adventure : 0.0003390596745027125\n",
      "Puzzle;Action & Adventure : 0.0003390596745027125\n",
      "Entertainment;Creativity : 0.0003390596745027125\n",
      "Entertainment;Action & Adventure : 0.0003390596745027125\n",
      "Educational;Creativity : 0.0003390596745027125\n",
      "Educational;Action & Adventure : 0.0003390596745027125\n",
      "Education;Music & Video : 0.0003390596745027125\n",
      "Education;Brain Games : 0.0003390596745027125\n",
      "Education;Action & Adventure : 0.0003390596745027125\n",
      "Adventure;Action & Adventure : 0.0003390596745027125\n",
      "Video Players & Editors;Music & Video : 0.0002260397830018083\n",
      "Sports;Action & Adventure : 0.0002260397830018083\n",
      "Simulation;Pretend Play : 0.0002260397830018083\n",
      "Puzzle;Creativity : 0.0002260397830018083\n",
      "Music;Music & Video : 0.0002260397830018083\n",
      "Entertainment;Pretend Play : 0.0002260397830018083\n",
      "Casual;Education : 0.0002260397830018083\n",
      "Board;Action & Adventure : 0.0002260397830018083\n",
      "Video Players & Editors;Creativity : 0.00011301989150090416\n",
      "Trivia;Education : 0.00011301989150090416\n",
      "Travel & Local;Action & Adventure : 0.00011301989150090416\n",
      "Tools;Education : 0.00011301989150090416\n",
      "Strategy;Education : 0.00011301989150090416\n",
      "Strategy;Creativity : 0.00011301989150090416\n",
      "Strategy;Action & Adventure : 0.00011301989150090416\n",
      "Simulation;Education : 0.00011301989150090416\n",
      "Role Playing;Brain Games : 0.00011301989150090416\n",
      "Racing;Pretend Play : 0.00011301989150090416\n",
      "Puzzle;Education : 0.00011301989150090416\n",
      "Parenting;Brain Games : 0.00011301989150090416\n",
      "Music & Audio;Music & Video : 0.00011301989150090416\n",
      "Lifestyle;Pretend Play : 0.00011301989150090416\n",
      "Lifestyle;Education : 0.00011301989150090416\n",
      "Health & Fitness;Education : 0.00011301989150090416\n",
      "Health & Fitness;Action & Adventure : 0.00011301989150090416\n",
      "Entertainment;Education : 0.00011301989150090416\n",
      "Communication;Creativity : 0.00011301989150090416\n",
      "Comics;Creativity : 0.00011301989150090416\n",
      "Casual;Music & Video : 0.00011301989150090416\n",
      "Card;Action & Adventure : 0.00011301989150090416\n",
      "Books & Reference;Education : 0.00011301989150090416\n",
      "Art & Design;Pretend Play : 0.00011301989150090416\n",
      "Art & Design;Action & Adventure : 0.00011301989150090416\n",
      "Arcade;Pretend Play : 0.00011301989150090416\n",
      "Adventure;Education : 0.00011301989150090416\n"
     ]
    }
   ],
   "source": [
    "display_table(google_clean, 9) # Genres"
   ]
  },
  {
   "cell_type": "code",
   "execution_count": 19,
   "metadata": {},
   "outputs": [
    {
     "name": "stdout",
     "output_type": "stream",
     "text": [
      "FAMILY : 0.18942133815551537\n",
      "GAME : 0.09697106690777577\n",
      "TOOLS : 0.08453887884267632\n",
      "BUSINESS : 0.04599909584086799\n",
      "PRODUCTIVITY : 0.03899186256781193\n",
      "LIFESTYLE : 0.03887884267631103\n",
      "FINANCE : 0.037070524412296565\n",
      "MEDICAL : 0.035375226039783\n",
      "SPORTS : 0.033905967450271246\n",
      "PERSONALIZATION : 0.03322784810126582\n",
      "COMMUNICATION : 0.032323688969258586\n",
      "HEALTH_AND_FITNESS : 0.030854430379746837\n",
      "PHOTOGRAPHY : 0.029498191681735987\n",
      "NEWS_AND_MAGAZINES : 0.02802893309222423\n",
      "SOCIAL : 0.02667269439421338\n",
      "TRAVEL_AND_LOCAL : 0.02339511754068716\n",
      "SHOPPING : 0.02249095840867993\n",
      "BOOKS_AND_REFERENCE : 0.021360759493670885\n",
      "DATING : 0.018648282097649186\n",
      "VIDEO_PLAYERS : 0.017970162748643763\n",
      "MAPS_AND_NAVIGATION : 0.013901446654611212\n",
      "FOOD_AND_DRINK : 0.012432188065099457\n",
      "EDUCATION : 0.01164104882459313\n",
      "ENTERTAINMENT : 0.009606690777576853\n",
      "LIBRARIES_AND_DEMO : 0.009380650994575045\n",
      "AUTO_AND_VEHICLES : 0.009267631103074141\n",
      "HOUSE_AND_HOME : 0.008024412296564195\n",
      "WEATHER : 0.007911392405063292\n",
      "EVENTS : 0.007120253164556962\n",
      "PARENTING : 0.006555153707052441\n",
      "ART_AND_DESIGN : 0.006442133815551537\n",
      "COMICS : 0.0061030741410488245\n",
      "BEAUTY : 0.00599005424954792\n"
     ]
    }
   ],
   "source": [
    "display_table(google_clean, 1) # Category"
   ]
  },
  {
   "cell_type": "markdown",
   "metadata": {},
   "source": [
    "The most common genres on the Play Store are Tools (8%), Entertainment (6%), and Education (5%). Family (18%), Game (9%), and Tools (8%) are the most common categories. I am surprised there is such a surfeit of games on the App Store compared to the Play Store. Though because the Google data splits out its genres so finely, it might not be a fair comparison."
   ]
  },
  {
   "cell_type": "markdown",
   "metadata": {},
   "source": [
    "Now let's examine how popular the apps in each category are on average. We don't have this data for both datasets, so we'll use the number of ratings per app as a stand-in for the number of installs."
   ]
  },
  {
   "cell_type": "code",
   "execution_count": 20,
   "metadata": {},
   "outputs": [],
   "source": [
    "def find_avg_ratings_per_genre(dataset, genre_col, rat_col):\n",
    "    rat_per_gen = {}\n",
    "    app_rat_freq = freq_table(dataset, genre_col) \n",
    "    for genre, f in app_rat_freq.items():\n",
    "        total = 0 # num of ratings in this genre\n",
    "        len_genre = 0 # num apps in this genre\n",
    "        for app in dataset:\n",
    "            genre_app = app[genre_col]\n",
    "            if genre_app == genre:\n",
    "                total += float(app[rat_col])\n",
    "                len_genre += 1\n",
    "        rat_per_gen[genre] = total / len_genre\n",
    "    return rat_per_gen\n",
    "        \n",
    "def display_dictionary_sorted(dic):\n",
    "    table_display = []\n",
    "    for key, val in dic.items():\n",
    "        key_val_as_tuple = (val, key)\n",
    "        table_display.append(key_val_as_tuple)\n",
    "\n",
    "    table_sorted = sorted(table_display, reverse = True)\n",
    "    for entry in table_sorted:\n",
    "        print(entry[1], ':', entry[0])"
   ]
  },
  {
   "cell_type": "code",
   "execution_count": 21,
   "metadata": {},
   "outputs": [
    {
     "name": "stdout",
     "output_type": "stream",
     "text": [
      "Navigation : 86090.33333333333\n",
      "Reference : 79350.4705882353\n",
      "Social Networking : 71548.34905660378\n",
      "Music : 57326.530303030304\n",
      "Weather : 52279.892857142855\n",
      "Book : 46384.916666666664\n",
      "Food & Drink : 33333.92307692308\n",
      "Finance : 32367.02857142857\n",
      "Photo & Video : 28441.54375\n",
      "Travel : 28243.8\n",
      "Shopping : 27230.734939759037\n",
      "Health & Fitness : 23298.015384615384\n",
      "Sports : 23008.898550724636\n",
      "Games : 22910.83100858369\n",
      "News : 21248.023255813954\n",
      "Productivity : 21028.410714285714\n",
      "Utilities : 19156.493670886077\n",
      "Lifestyle : 16815.48\n",
      "Entertainment : 14195.358565737051\n",
      "Business : 7491.117647058823\n",
      "Education : 7003.983050847458\n",
      "Catalogs : 4004.0\n",
      "Medical : 612.0\n"
     ]
    }
   ],
   "source": [
    "app_rat_per_gen = find_avg_ratings_per_genre(apple_clean, 12, 6)\n",
    "display_dictionary_sorted(app_rat_per_gen)"
   ]
  },
  {
   "cell_type": "markdown",
   "metadata": {},
   "source": [
    "This analysis shows that Navigation, Reference, and Social Networking apps have far and away the most reviews per app in the App Store. The genres with the greatest number of apps (ie Games, Entertainment, Photo & Video, and Education), were more mediocre performers in this metric. However, I would still hesitate to propose an app category from this analysis. I wonder if it is simply the case that everybody with an iPhone has Apple Maps, for instance, and so they all have an opinion of it. It may be the case that the highest numbers are the case with one \"killer app\" (say, Facebook), and the others in that category are non-entities. Or perhaps the reviews are all negative (though I suppose that is an opportunity for disruption)."
   ]
  },
  {
   "cell_type": "markdown",
   "metadata": {},
   "source": [
    "To do the same analysis for the Google Play data, we first need to clean the column for 'Installs'"
   ]
  },
  {
   "cell_type": "code",
   "execution_count": 22,
   "metadata": {},
   "outputs": [],
   "source": [
    "for app in google_clean:\n",
    "    app[5] = app[5].replace(',','')\n",
    "    app[5] = app[5].replace('+','')\n",
    "    app[5] = float(app[5])"
   ]
  },
  {
   "cell_type": "code",
   "execution_count": 23,
   "metadata": {},
   "outputs": [
    {
     "name": "stdout",
     "output_type": "stream",
     "text": [
      "COMMUNICATION : 999089.6118881119\n",
      "SOCIAL : 965830.9872881356\n",
      "GAME : 684290.0629370629\n",
      "VIDEO_PLAYERS : 425350.08176100627\n",
      "PHOTOGRAPHY : 404081.3754789272\n",
      "TOOLS : 306550.3034759358\n",
      "ENTERTAINMENT : 301752.24705882353\n",
      "SHOPPING : 223887.34673366835\n",
      "PERSONALIZATION : 181122.31632653062\n",
      "WEATHER : 173679.5285714286\n",
      "PRODUCTIVITY : 160634.5420289855\n",
      "MAPS_AND_NAVIGATION : 143611.27642276423\n",
      "TRAVEL_AND_LOCAL : 129484.42512077295\n",
      "SPORTS : 117317.25666666667\n",
      "FAMILY : 113142.99821002387\n",
      "NEWS_AND_MAGAZINES : 93088.03225806452\n",
      "BOOKS_AND_REFERENCE : 88460.62962962964\n",
      "HEALTH_AND_FITNESS : 78094.9706959707\n",
      "FOOD_AND_DRINK : 57478.79090909091\n",
      "EDUCATION : 56293.09708737864\n",
      "COMICS : 43371.57407407407\n",
      "FINANCE : 38535.8993902439\n",
      "LIFESTYLE : 34118.90406976744\n",
      "HOUSE_AND_HOME : 27113.309859154928\n",
      "ART_AND_DESIGN : 24699.42105263158\n",
      "BUSINESS : 24239.727272727272\n",
      "DATING : 21953.272727272728\n",
      "PARENTING : 16378.706896551725\n",
      "AUTO_AND_VEHICLES : 14140.280487804877\n",
      "LIBRARIES_AND_DEMO : 10925.807228915663\n",
      "BEAUTY : 7476.226415094339\n",
      "MEDICAL : 3730.1533546325877\n",
      "EVENTS : 2555.84126984127\n"
     ]
    }
   ],
   "source": [
    "goo_rat_per_gen = find_avg_ratings_per_genre(google_clean, 1, 3)\n",
    "display_dictionary_sorted(goo_rat_per_gen)"
   ]
  },
  {
   "cell_type": "markdown",
   "metadata": {},
   "source": [
    "In the Google Play Store, communication and social apps have the most ratings per app on average, followed by games, video players, and photography. Again, it would make sense to evaluate if there are just a few \"winner\" apps in those categories that are skewing the results, but it seems like a good place to start."
   ]
  },
  {
   "cell_type": "code",
   "execution_count": 24,
   "metadata": {},
   "outputs": [
    {
     "name": "stdout",
     "output_type": "stream",
     "text": [
      "Adventure;Action & Adventure : 1513269.0\n",
      "Strategy : 1251841.8148148148\n",
      "Communication : 999089.6118881119\n",
      "Social : 965830.9872881356\n",
      "Casual;Action & Adventure : 942726.4166666666\n",
      "Card;Action & Adventure : 920571.0\n",
      "Casual : 837706.0064102564\n",
      "Sports;Action & Adventure : 730014.0\n",
      "Arcade : 713174.8282208589\n",
      "Racing : 597997.1590909091\n",
      "Action : 544150.7116788321\n",
      "Puzzle;Action & Adventure : 533895.3333333334\n",
      "Video Players & Editors : 428992.6050955414\n",
      "Photography : 404081.3754789272\n",
      "Tools;Education : 342336.0\n",
      "Role Playing;Action & Adventure : 322308.3333333333\n",
      "Tools : 306502.3975903614\n",
      "Adventure;Education : 288606.0\n",
      "Adventure : 285217.72881355934\n",
      "Role Playing : 249256.8313253012\n",
      "Education;Education : 234564.86666666667\n",
      "Word : 228272.04347826086\n",
      "Educational;Action & Adventure : 225802.33333333334\n",
      "Shopping : 223887.34673366835\n",
      "Music : 216456.44444444444\n",
      "Puzzle : 215662.56\n",
      "Educational;Pretend Play : 214720.125\n",
      "Sports : 214124.96078431373\n",
      "Racing;Action & Adventure : 203194.86666666667\n",
      "Trivia : 193939.56756756757\n",
      "Education;Brain Games : 192591.0\n",
      "Personalization : 181122.31632653062\n",
      "Simulation;Action & Adventure : 175951.85714285713\n",
      "Weather : 173679.5285714286\n",
      "Card : 166334.975\n",
      "Productivity : 160634.5420289855\n",
      "Video Players & Editors;Creativity : 159622.0\n",
      "Puzzle;Brain Games : 157446.0\n",
      "Role Playing;Brain Games : 151374.0\n",
      "Maps & Navigation : 143611.27642276423\n",
      "Entertainment;Creativity : 143559.33333333334\n",
      "Simulation : 142850.22099447515\n",
      "Lifestyle;Pretend Play : 140995.0\n",
      "Casino : 137943.8108108108\n",
      "Travel & Local : 130108.66990291262\n",
      "Strategy;Creativity : 129542.0\n",
      "Action;Action & Adventure : 128986.11111111111\n",
      "Board : 121552.94117647059\n",
      "Casual;Pretend Play : 105424.80952380953\n",
      "Entertainment : 103389.24721189591\n",
      "Arcade;Action & Adventure : 100802.54545454546\n",
      "News & Magazines : 93088.03225806452\n",
      "Casual;Creativity : 88508.83333333333\n",
      "Books & Reference : 88460.62962962964\n",
      "Entertainment;Music & Video : 79679.53333333334\n",
      "Video Players & Editors;Music & Video : 79490.5\n",
      "Entertainment;Brain Games : 79104.28571428571\n",
      "Health & Fitness : 78094.9706959707\n",
      "Food & Drink : 57478.79090909091\n",
      "Role Playing;Pretend Play : 55798.0\n",
      "Entertainment;Pretend Play : 53655.0\n",
      "Entertainment;Action & Adventure : 45750.0\n",
      "Comics : 44180.16981132075\n",
      "Puzzle;Creativity : 38619.5\n",
      "Finance : 38535.8993902439\n",
      "Casual;Music & Video : 38021.0\n",
      "Simulation;Pretend Play : 37664.5\n",
      "Board;Action & Adventure : 37283.0\n",
      "Lifestyle : 33807.31195335277\n",
      "Health & Fitness;Action & Adventure : 31061.0\n",
      "House & Home : 27113.309859154928\n",
      "Art & Design : 26119.11320754717\n",
      "Music;Music & Video : 25474.0\n",
      "Education;Pretend Play : 25151.4\n",
      "Business : 24239.727272727272\n",
      "Arcade;Pretend Play : 23671.0\n",
      "Dating : 21953.272727272728\n",
      "Educational;Brain Games : 20885.333333333332\n",
      "Parenting : 20562.590909090908\n",
      "Strategy;Action & Adventure : 19170.0\n",
      "Education : 16211.383966244726\n",
      "Education;Music & Video : 14945.333333333334\n",
      "Educational;Creativity : 14829.0\n",
      "Auto & Vehicles : 14140.280487804877\n",
      "Casual;Education : 13817.5\n",
      "Educational;Education : 12010.228571428572\n",
      "Libraries & Demo : 10925.807228915663\n",
      "Casual;Brain Games : 10477.0\n",
      "Health & Fitness;Education : 9856.0\n",
      "Beauty : 7476.226415094339\n",
      "Entertainment;Education : 7320.0\n",
      "Educational : 7073.636363636364\n",
      "Education;Creativity : 6384.25\n",
      "Art & Design;Creativity : 5677.833333333333\n",
      "Education;Action & Adventure : 5176.333333333333\n",
      "Parenting;Music & Video : 4371.333333333333\n",
      "Medical : 3730.1533546325877\n",
      "Parenting;Brain Games : 3614.0\n",
      "Communication;Creativity : 3478.0\n",
      "Lifestyle;Education : 3146.0\n",
      "Events : 2555.84126984127\n",
      "Board;Brain Games : 2249.1428571428573\n",
      "Racing;Pretend Play : 2200.0\n",
      "Parenting;Education : 2195.5714285714284\n",
      "Strategy;Education : 2062.0\n",
      "Music & Audio;Music & Video : 1369.0\n",
      "Art & Design;Pretend Play : 974.0\n",
      "Travel & Local;Action & Adventure : 890.0\n",
      "Puzzle;Education : 834.0\n",
      "Comics;Creativity : 516.0\n",
      "Art & Design;Action & Adventure : 65.0\n",
      "Books & Reference;Education : 42.0\n",
      "Simulation;Education : 16.0\n",
      "Trivia;Education : 8.0\n"
     ]
    }
   ],
   "source": [
    "# Just out of curiosity\n",
    "ratings_per_category = find_avg_ratings_per_genre(google_clean, 9, 3)\n",
    "display_dictionary_sorted(ratings_per_category)"
   ]
  }
 ],
 "metadata": {
  "kernelspec": {
   "display_name": "Python 3",
   "language": "python",
   "name": "python3"
  },
  "language_info": {
   "codemirror_mode": {
    "name": "ipython",
    "version": 3
   },
   "file_extension": ".py",
   "mimetype": "text/x-python",
   "name": "python",
   "nbconvert_exporter": "python",
   "pygments_lexer": "ipython3",
   "version": "3.7.2"
  }
 },
 "nbformat": 4,
 "nbformat_minor": 2
}
